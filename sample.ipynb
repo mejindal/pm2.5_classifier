{
 "cells": [
  {
   "cell_type": "code",
   "execution_count": 23,
   "metadata": {},
   "outputs": [
    {
     "ename": "ValueError",
     "evalue": "Expected 2D array, got 1D array instead:\narray=[1. 1. 1. 1. 0. 0. 1. 1. 1. 1. 1. 1. 0. 0. 1. 1. 1. 1. 1. 1. 1. 1. 1. 1.\n 0. 1. 0. 1. 1. 1. 1. 1. 1. 0. 1. 1. 0. 1. 0. 0. 1. 1. 0. 1. 0. 1. 1. 1.\n 1. 1. 1. 1. 1. 1. 1. 1. 1. 0. 1. 1. 1. 1. 0. 1. 1. 1. 1. 1. 1. 1. 1. 1.\n 1. 1. 1. 1. 1. 1. 1. 1. 1. 1. 0. 0. 1. 1. 1. 1. 1. 1. 1. 0. 1. 1. 1. 1.\n 1. 1. 1. 1. 1. 0. 1. 1. 1. 1. 1. 1. 1. 1. 1. 1. 1. 1. 1. 1. 1. 1. 1. 1.\n 1. 0. 1. 1. 0. 1. 1. 0. 1. 1. 1. 0. 1. 1. 1. 1. 1. 1.].\nReshape your data either using array.reshape(-1, 1) if your data has a single feature or array.reshape(1, -1) if it contains a single sample.",
     "output_type": "error",
     "traceback": [
      "\u001b[1;31m---------------------------------------------------------------------------\u001b[0m",
      "\u001b[1;31mValueError\u001b[0m                                Traceback (most recent call last)",
      "\u001b[1;32m<ipython-input-23-921bad4834a0>\u001b[0m in \u001b[0;36m<module>\u001b[1;34m()\u001b[0m\n\u001b[0;32m      9\u001b[0m \u001b[1;33m\u001b[0m\u001b[0m\n\u001b[0;32m     10\u001b[0m \u001b[0mclf\u001b[0m \u001b[1;33m=\u001b[0m \u001b[0mExtraTreesClassifier\u001b[0m\u001b[1;33m(\u001b[0m\u001b[1;33m)\u001b[0m\u001b[1;33m\u001b[0m\u001b[0m\n\u001b[1;32m---> 11\u001b[1;33m \u001b[0mclf\u001b[0m\u001b[1;33m=\u001b[0m\u001b[0mclf\u001b[0m\u001b[1;33m.\u001b[0m\u001b[0mfit\u001b[0m\u001b[1;33m(\u001b[0m\u001b[0mx\u001b[0m\u001b[1;33m,\u001b[0m\u001b[0my\u001b[0m\u001b[1;33m)\u001b[0m\u001b[1;33m\u001b[0m\u001b[0m\n\u001b[0m\u001b[0;32m     12\u001b[0m \u001b[1;31m#print(clf.feature_importances_)\u001b[0m\u001b[1;33m\u001b[0m\u001b[1;33m\u001b[0m\u001b[0m\n\u001b[0;32m     13\u001b[0m \u001b[0mmodel\u001b[0m \u001b[1;33m=\u001b[0m \u001b[0mSelectFromModel\u001b[0m\u001b[1;33m(\u001b[0m\u001b[0mclf\u001b[0m\u001b[1;33m,\u001b[0m \u001b[0mprefit\u001b[0m\u001b[1;33m=\u001b[0m\u001b[1;32mTrue\u001b[0m\u001b[1;33m)\u001b[0m\u001b[1;33m\u001b[0m\u001b[0m\n",
      "\u001b[1;32m~\\Anaconda2\\lib\\site-packages\\sklearn\\ensemble\\forest.py\u001b[0m in \u001b[0;36mfit\u001b[1;34m(self, X, y, sample_weight)\u001b[0m\n\u001b[0;32m    245\u001b[0m         \"\"\"\n\u001b[0;32m    246\u001b[0m         \u001b[1;31m# Validate or convert input data\u001b[0m\u001b[1;33m\u001b[0m\u001b[1;33m\u001b[0m\u001b[0m\n\u001b[1;32m--> 247\u001b[1;33m         \u001b[0mX\u001b[0m \u001b[1;33m=\u001b[0m \u001b[0mcheck_array\u001b[0m\u001b[1;33m(\u001b[0m\u001b[0mX\u001b[0m\u001b[1;33m,\u001b[0m \u001b[0maccept_sparse\u001b[0m\u001b[1;33m=\u001b[0m\u001b[1;34m\"csc\"\u001b[0m\u001b[1;33m,\u001b[0m \u001b[0mdtype\u001b[0m\u001b[1;33m=\u001b[0m\u001b[0mDTYPE\u001b[0m\u001b[1;33m)\u001b[0m\u001b[1;33m\u001b[0m\u001b[0m\n\u001b[0m\u001b[0;32m    248\u001b[0m         \u001b[0my\u001b[0m \u001b[1;33m=\u001b[0m \u001b[0mcheck_array\u001b[0m\u001b[1;33m(\u001b[0m\u001b[0my\u001b[0m\u001b[1;33m,\u001b[0m \u001b[0maccept_sparse\u001b[0m\u001b[1;33m=\u001b[0m\u001b[1;34m'csc'\u001b[0m\u001b[1;33m,\u001b[0m \u001b[0mensure_2d\u001b[0m\u001b[1;33m=\u001b[0m\u001b[1;32mFalse\u001b[0m\u001b[1;33m,\u001b[0m \u001b[0mdtype\u001b[0m\u001b[1;33m=\u001b[0m\u001b[1;32mNone\u001b[0m\u001b[1;33m)\u001b[0m\u001b[1;33m\u001b[0m\u001b[0m\n\u001b[0;32m    249\u001b[0m         \u001b[1;32mif\u001b[0m \u001b[0msample_weight\u001b[0m \u001b[1;32mis\u001b[0m \u001b[1;32mnot\u001b[0m \u001b[1;32mNone\u001b[0m\u001b[1;33m:\u001b[0m\u001b[1;33m\u001b[0m\u001b[0m\n",
      "\u001b[1;32m~\\Anaconda2\\lib\\site-packages\\sklearn\\utils\\validation.py\u001b[0m in \u001b[0;36mcheck_array\u001b[1;34m(array, accept_sparse, dtype, order, copy, force_all_finite, ensure_2d, allow_nd, ensure_min_samples, ensure_min_features, warn_on_dtype, estimator)\u001b[0m\n\u001b[0;32m    439\u001b[0m                     \u001b[1;34m\"Reshape your data either using array.reshape(-1, 1) if \"\u001b[0m\u001b[1;33m\u001b[0m\u001b[0m\n\u001b[0;32m    440\u001b[0m                     \u001b[1;34m\"your data has a single feature or array.reshape(1, -1) \"\u001b[0m\u001b[1;33m\u001b[0m\u001b[0m\n\u001b[1;32m--> 441\u001b[1;33m                     \"if it contains a single sample.\".format(array))\n\u001b[0m\u001b[0;32m    442\u001b[0m             \u001b[0marray\u001b[0m \u001b[1;33m=\u001b[0m \u001b[0mnp\u001b[0m\u001b[1;33m.\u001b[0m\u001b[0matleast_2d\u001b[0m\u001b[1;33m(\u001b[0m\u001b[0marray\u001b[0m\u001b[1;33m)\u001b[0m\u001b[1;33m\u001b[0m\u001b[0m\n\u001b[0;32m    443\u001b[0m             \u001b[1;31m# To ensure that array flags are maintained\u001b[0m\u001b[1;33m\u001b[0m\u001b[1;33m\u001b[0m\u001b[0m\n",
      "\u001b[1;31mValueError\u001b[0m: Expected 2D array, got 1D array instead:\narray=[1. 1. 1. 1. 0. 0. 1. 1. 1. 1. 1. 1. 0. 0. 1. 1. 1. 1. 1. 1. 1. 1. 1. 1.\n 0. 1. 0. 1. 1. 1. 1. 1. 1. 0. 1. 1. 0. 1. 0. 0. 1. 1. 0. 1. 0. 1. 1. 1.\n 1. 1. 1. 1. 1. 1. 1. 1. 1. 0. 1. 1. 1. 1. 0. 1. 1. 1. 1. 1. 1. 1. 1. 1.\n 1. 1. 1. 1. 1. 1. 1. 1. 1. 1. 0. 0. 1. 1. 1. 1. 1. 1. 1. 0. 1. 1. 1. 1.\n 1. 1. 1. 1. 1. 0. 1. 1. 1. 1. 1. 1. 1. 1. 1. 1. 1. 1. 1. 1. 1. 1. 1. 1.\n 1. 0. 1. 1. 0. 1. 1. 0. 1. 1. 1. 0. 1. 1. 1. 1. 1. 1.].\nReshape your data either using array.reshape(-1, 1) if your data has a single feature or array.reshape(1, -1) if it contains a single sample."
     ]
    }
   ],
   "source": [
    "from numpy import loadtxt\n",
    "from xgboost import XGBClassifier\n",
    "from sklearn.model_selection import train_test_split\n",
    "from sklearn.metrics import accuracy_score\n",
    "import numpy as np\n",
    "from sklearn.ensemble import ExtraTreesClassifier\n",
    "from sklearn.feature_selection import SelectFromModel\n",
    "\n",
    "\n",
    "clf = ExtraTreesClassifier()\n",
    "clf=clf.fit(x,y)\n",
    "#print(clf.feature_importances_)\n",
    "model = SelectFromModel(clf, prefit=True)\n",
    "X_new = model.transform(x)\n",
    "\n",
    "filename = 'C:\\mldata\\shadipur.csv'\n",
    "raw_data = open(filename, 'rt')\n",
    "data = np.loadtxt(raw_data, delimiter=\",\")\n",
    "x=data[:,0:7]\n",
    "y=data[:,-1]\n",
    "print(data[0])\n",
    "seed = 7\n",
    "test_size = 0.33\n",
    "X_train, X_test, y_train, y_test = train_test_split(X_new, y, test_size=test_size, random_state=seed)\n",
    "# fit model no training data\n",
    "model = XGBClassifier()\n",
    "model.fit(X_train, y_train)\n",
    "# make predictions for test data\n",
    "y_pred = model.predict(X_test)\n",
    "predictions = [round(value) for value in y_pred]\n",
    "# evaluate predictions\n",
    "accuracy = accuracy_score(y_test, predictions)\n",
    "print(\"Accuracy: %.2f%%\" % (accuracy * 100.0)) "
   ]
  },
  {
   "cell_type": "code",
   "execution_count": 4,
   "metadata": {},
   "outputs": [],
   "source": [
    "import pandas as pd\n",
    "import numpy as np\n",
    "from numpy import loadtxt\n",
    "from xgboost import XGBClassifier\n",
    "from sklearn.model_selection import train_test_split\n",
    "from sklearn.metrics import accuracy_score\n",
    "import numpy as np\n",
    "from sklearn.ensemble import ExtraTreesClassifier\n",
    "from sklearn.feature_selection import SelectFromModel\n",
    "\n",
    "\n",
    "clf = ExtraTreesClassifier()\n"
   ]
  },
  {
   "cell_type": "code",
   "execution_count": 20,
   "metadata": {},
   "outputs": [],
   "source": [
    "data = pd.read_csv( 'C:\\mldata\\shadipur.csv',header = None)\n",
    "data[8] = data[8].fillna(1)"
   ]
  },
  {
   "cell_type": "code",
   "execution_count": 21,
   "metadata": {},
   "outputs": [
    {
     "name": "stdout",
     "output_type": "stream",
     "text": [
      "<class 'pandas.core.frame.DataFrame'>\n",
      "RangeIndex: 458 entries, 0 to 457\n",
      "Data columns (total 9 columns):\n",
      "0    458 non-null float64\n",
      "1    458 non-null float64\n",
      "2    458 non-null float64\n",
      "3    458 non-null float64\n",
      "4    458 non-null float64\n",
      "5    458 non-null float64\n",
      "6    458 non-null float64\n",
      "7    458 non-null float64\n",
      "8    458 non-null float64\n",
      "dtypes: float64(9)\n",
      "memory usage: 32.3 KB\n"
     ]
    }
   ],
   "source": [
    "data.info()"
   ]
  },
  {
   "cell_type": "code",
   "execution_count": 29,
   "metadata": {},
   "outputs": [
    {
     "name": "stdout",
     "output_type": "stream",
     "text": [
      "[[  0.46 149.91  70.27 ... 159.4   19.5    0.78]\n",
      " [  0.47 227.96  82.27 ... 114.69  17.33   0.63]\n",
      " [  0.4  203.86  72.56 ... 124.31  18.47   0.85]\n",
      " ...\n",
      " [  0.5  176.33  19.69 ... 140.44  33.59   1.74]\n",
      " [  0.53 275.72  28.65 ... 147.29  30.31   1.1 ]\n",
      " [  0.57 248.62  29.22 ... 193.8   27.52   1.37]]\n"
     ]
    }
   ],
   "source": [
    "y = data.loc[:,8].values\n",
    "x = data.loc[:,0:6].values\n",
    "print(x)\n",
    "\n",
    "#print(clf.feature_importances_)\n",
    "model = SelectFromModel(clf, prefit=True)"
   ]
  },
  {
   "cell_type": "code",
   "execution_count": 30,
   "metadata": {},
   "outputs": [],
   "source": [
    "test_size = 0.3\n",
    "X_train, X_test, y_train, y_test = train_test_split(x, y, test_size=test_size, random_state=8)\n"
   ]
  },
  {
   "cell_type": "code",
   "execution_count": null,
   "metadata": {
    "scrolled": true
   },
   "outputs": [],
   "source": [
    "model1 = XGBClassifier(n_estimators= 5000,max_depth=4,n_jobs=-1,seed = 1)\n",
    "model1.fit(X_train, y_train)\n",
    "# make predictions for test data\n",
    "y_pred1 = model1.predict_proba(X_test)\n",
    "\n",
    "\n",
    "model2 = XGBClassifier(n_estimators= 5000,max_depth=4, n_jobs=-1,seed = 2)\n",
    "model2.fit(X_train, y_train)\n",
    "# make predictions for test data\n",
    "y_pred2 = model2.predict_proba(X_test)\n",
    "\n",
    "model3 = XGBClassifier(n_estimators= 5000,max_depth=4, n_jobs=-1,seed = 3)\n",
    "model3.fit(X_train, y_train)\n",
    "# make predictions for test data\n",
    "y_pred3 = model3.predict_proba(X_test)\n",
    "\n",
    "\n",
    "model4 = XGBClassifier(n_estimators= 5000,max_depth=4 ,n_jobs=-1,seed = 4)\n",
    "model4.fit(X_train, y_train)\n",
    "# make predictions for test data\n",
    "y_pred4 = model4.predict_proba(X_test)\n",
    "\n",
    "model5 = XGBClassifier(n_estimators= 5000,max_depth=4 ,n_jobs=-1,seed = 5)\n",
    "model5.fit(X_train, y_train)\n",
    "# make predictions for test data\n",
    "y_pred5 = model5.predict_proba(X_test)\n",
    "# evaluate prediction"
   ]
  },
  {
   "cell_type": "code",
   "execution_count": null,
   "metadata": {},
   "outputs": [],
   "source": [
    "y_pred = np.mean(np.stack((y_pred1[:,1],y_pred2[:,1],y_pred3[:,1],y_pred4[:,1],y_pred5[:,1]),axis=1),axis=1)"
   ]
  },
  {
   "cell_type": "code",
   "execution_count": 33,
   "metadata": {},
   "outputs": [
    {
     "name": "stdout",
     "output_type": "stream",
     "text": [
      "Accuracy: 85.51%\n"
     ]
    }
   ],
   "source": [
    "predictions = [round(value) for value in y_pred]\n",
    "# evaluate predictions\n",
    "accuracy = accuracy_score(y_test, predictions)\n",
    "print(\"Accuracy: %.2f%%\" % (accuracy * 100.0)) "
   ]
  },
  {
   "cell_type": "code",
   "execution_count": 18,
   "metadata": {},
   "outputs": [
    {
     "name": "stderr",
     "output_type": "stream",
     "text": [
      "[Parallel(n_jobs=-1)]: Done  10 out of  10 | elapsed:   33.9s finished\n"
     ]
    }
   ],
   "source": [
    "from sklearn.model_selection import cross_val_score\n",
    "accs=cross_val_score(model1, x, y,cv=10,n_jobs=-1,verbose=1)"
   ]
  },
  {
   "cell_type": "code",
   "execution_count": 19,
   "metadata": {},
   "outputs": [
    {
     "data": {
      "text/plain": [
       "0.6311904761904763"
      ]
     },
     "execution_count": 19,
     "metadata": {},
     "output_type": "execute_result"
    }
   ],
   "source": [
    "np.mean(accs)"
   ]
  },
  {
   "cell_type": "code",
   "execution_count": 19,
   "metadata": {},
   "outputs": [],
   "source": [
    "x=np.array(predictions)"
   ]
  },
  {
   "cell_type": "code",
   "execution_count": 20,
   "metadata": {},
   "outputs": [
    {
     "data": {
      "text/plain": [
       "(138, 2)"
      ]
     },
     "execution_count": 20,
     "metadata": {},
     "output_type": "execute_result"
    }
   ],
   "source": [
    "np.stack((x,x),axis=1).shape"
   ]
  },
  {
   "cell_type": "code",
   "execution_count": 21,
   "metadata": {},
   "outputs": [
    {
     "data": {
      "text/plain": [
       "array([8.60539913e-01, 9.98798549e-01, 9.99900460e-01, 5.65878093e-01,\n",
       "       3.31583798e-01, 8.38392240e-04, 9.44168568e-01, 9.90613580e-01,\n",
       "       9.94235992e-01, 9.93562579e-01, 9.99871850e-01, 9.59355354e-01,\n",
       "       1.04816303e-01, 1.04922138e-01, 9.99509633e-01, 9.91267323e-01,\n",
       "       9.98560309e-01, 9.68077004e-01, 5.33242166e-01, 9.99458015e-01,\n",
       "       9.99987006e-01, 9.83234584e-01, 9.96046662e-01, 9.91337657e-01,\n",
       "       6.87567815e-02, 9.98407722e-01, 1.95574924e-01, 9.99948144e-01,\n",
       "       9.32401478e-01, 9.30070400e-01, 9.54352498e-01, 9.99934196e-01,\n",
       "       9.99965668e-01, 9.58053917e-02, 9.99952614e-01, 9.99686062e-01,\n",
       "       2.38445699e-02, 8.34870160e-01, 1.70462281e-01, 6.69139484e-03,\n",
       "       9.98011112e-01, 9.99982178e-01, 1.27802845e-02, 9.90583897e-01,\n",
       "       7.00965663e-03, 9.99949276e-01, 9.39056277e-01, 9.99280930e-01,\n",
       "       5.26303828e-01, 9.56359863e-01, 9.99977708e-01, 9.99786377e-01,\n",
       "       9.78331208e-01, 9.98043060e-01, 9.98500824e-01, 9.72248852e-01,\n",
       "       9.97661233e-01, 4.11070039e-04, 9.99915779e-01, 9.92667675e-01,\n",
       "       9.97995675e-01, 9.99080360e-01, 2.57068306e-01, 9.60733294e-01,\n",
       "       9.98608887e-01, 9.91470695e-01, 9.65658545e-01, 9.86648679e-01,\n",
       "       9.99225974e-01, 9.99818027e-01, 9.99938846e-01, 9.36024308e-01,\n",
       "       9.97013569e-01, 7.58480489e-01, 9.99899745e-01, 9.77779388e-01,\n",
       "       9.99875546e-01, 7.99791813e-01, 9.59535003e-01, 9.99655366e-01,\n",
       "       9.99929249e-01, 9.99964535e-01, 3.60028557e-02, 1.37067763e-02,\n",
       "       9.99946773e-01, 9.96011734e-01, 9.57266033e-01, 9.99568164e-01,\n",
       "       9.17985737e-01, 9.99852002e-01, 9.98974442e-01, 2.07321588e-02,\n",
       "       9.99532700e-01, 9.81217206e-01, 9.98569846e-01, 9.91104722e-01,\n",
       "       9.98610020e-01, 9.99546230e-01, 9.99943435e-01, 9.91787732e-01,\n",
       "       9.99812245e-01, 2.90252775e-01, 9.99857903e-01, 8.46512616e-01,\n",
       "       9.95888054e-01, 9.97727692e-01, 9.75561023e-01, 9.97827411e-01,\n",
       "       9.95336890e-01, 9.99243259e-01, 9.98335063e-01, 9.93660569e-01,\n",
       "       9.99771237e-01, 9.79579091e-01, 9.94292140e-01, 9.99949098e-01,\n",
       "       9.93707001e-01, 9.88151729e-01, 9.45790172e-01, 9.99192834e-01,\n",
       "       9.99994457e-01, 2.04473227e-01, 9.28121746e-01, 9.97877479e-01,\n",
       "       9.53200683e-02, 9.28051651e-01, 9.24635589e-01, 3.42975438e-01,\n",
       "       9.99828637e-01, 9.96722043e-01, 9.95317638e-01, 1.72063991e-01,\n",
       "       9.58734035e-01, 9.99762654e-01, 9.99112129e-01, 9.99351025e-01,\n",
       "       9.18765903e-01, 7.62537360e-01], dtype=float32)"
      ]
     },
     "execution_count": 21,
     "metadata": {},
     "output_type": "execute_result"
    }
   ],
   "source": [
    "y_pred"
   ]
  },
  {
   "cell_type": "code",
   "execution_count": null,
   "metadata": {},
   "outputs": [],
   "source": []
  }
 ],
 "metadata": {
  "kernelspec": {
   "display_name": "Python 3",
   "language": "python",
   "name": "python3"
  }
 },
 "nbformat": 4,
 "nbformat_minor": 2
}
